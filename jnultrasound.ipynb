{
 "cells": [
  {
   "cell_type": "markdown",
   "metadata": {},
   "source": [
    "**Lab Assignment**\n",
    "\n",
    "**Sol_2** Frequency of signal is- 5.975977 MHz\n",
    "\n",
    "**Sol_3** Bandwidth observed in the signal is- (1/0.2-1/0.6)=3.33 Mhz\n",
    "\n",
    "**Sol_4**\n",
    "\n",
    "A major difference between most digital medical images and pictures acquired from photography is that the depicted physical parameters in medical images are usually inaccessible for inspection. Features or quantities determined by computer-assisted analysis cannot easily be compared with true features or quantities.It would be, e.g., infeasible to open the human body to verify whether a tumor volume measured in a sequence of CT images in some posttreatment confirmation scan corresponds to the true volume. \n",
    "\n",
    "Fortunately, the physical property depicted, its diagnostic value, and possible artefacts are usually well known. Furthermore, the imaging technique has been chosen on purpose because it is known to produce images that depict diagnostically relevant information. The development of efficient analysis techniques often uses this knowledge as part of the domain knowledge to make up for the inaccessibility of the measured property. A physical property measured by an imaging device and presented as a picture must meet three conditions to be useful. It has to penetrate the human body, it must not unduly interfere with it, and it must be meaningful for answering some medically relevant questions[2].\n",
    "\n",
    "So, the different acquisition parameters are used for acquiring various signals that could help us in diagnosing the artefact properly.\n",
    "\n",
    "**Sol_6**\n",
    "\n",
    "In the image rendering thing we have to open each of the image from sequence individually and analyse them. To change brightness and contrast of each of the image for proper diagnosis we have to modify window size and width in each image rendered.So, as compared to DICOM this process is time consuming and prone to errors.\n",
    "\n",
    "DICOM much more easier to use and to interpret the artefacts. Even the patient could examine his images ownself.\n",
    "\n",
    "**Sol_7**\n",
    "\n",
    "A single DICOM file contains both a header (which stores information about the patient's name, the type of scan, image dimensions, etc), as well as all of the image data (which can contain information in three dimensions). This is different from the popular Analyze format, which stores the image data in one file (*.img) and the header data in another file (*.hdr). Another difference between DICOM and Analyze is that the DICOM image data can be compressed (encapsulated) to reduce the image size. Files can be compressed using lossy or lossless variants of the JPEG format, as well as a lossless Run-Length Encoding format (which is identical to the packed-bits compression found in some TIFF format images).\n",
    "\n",
    "DICOM is very handy as we donot need to learn accessing all the attributes required from each and every image of the sequence.It helps us with giving all the required information. In image rendering we need to set all parameters again and again for each slice image which is not same in DICOM.It is easy to learn and work with[3]."
   ]
  },
  {
   "cell_type": "markdown",
   "metadata": {},
   "source": [
    "**References**\n",
    "\n",
    "1. http://localhost:8888/notebooks/lcuriel%20mam.ipynb/ENGI-5631-FA2017-master/07UltrasoundImaging%20-%20Lab.ipynb#\n",
    "\n",
    "2. http://www.beck-shop.de/fachbuch/leseprobe/9781447127505_Excerpt_001.pdf\n",
    "\n",
    "3. *\"The essential physics of medical imaging\"*-Bushberg JT, Seibert JA, Leidholdt EM,Lippincott Williams and Wilkins,2002-2nd edition,Philadelphia.\n",
    "\n",
    "4. *\"Functional magnetic resonance imaging. Palgrave\"*-Huettel SA, Song AW, McCarthy G,Macmillan, Basingstoke-2004."
   ]
  }
 ],
 "metadata": {
  "kernelspec": {
   "display_name": "Python 2",
   "language": "python",
   "name": "python2"
  },
  "language_info": {
   "codemirror_mode": {
    "name": "ipython",
    "version": 2
   },
   "file_extension": ".py",
   "mimetype": "text/x-python",
   "name": "python",
   "nbconvert_exporter": "python",
   "pygments_lexer": "ipython2",
   "version": "2.7.13"
  }
 },
 "nbformat": 4,
 "nbformat_minor": 2
}
