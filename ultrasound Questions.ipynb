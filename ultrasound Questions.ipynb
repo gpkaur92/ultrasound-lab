{
 "cells": [
  {
   "cell_type": "markdown",
   "metadata": {},
   "source": [
    "**Solutions of Given Questions**\n",
    "\n",
    "**Q1_Find out and discuss the effect of modifying the filter and explain briefly how a median filter works**\n",
    "\n",
    "**Sol_** \n",
    "\n",
    "If we modify the window size of the median filter then we will have following changes:\n",
    ". Increase in window wodth will result in the noise reduction of the stage smoothing with much smaller bias near edges.\n",
    ". But also, with higher window size a degree of blurring effect will be added to filtered noise.\n",
    "\n",
    "Working of median filter:\n",
    "\n",
    "Median filtering is a nonlinear method used to remove noise from images. It is widely used as it is very effective at removing noise while preserving edges. It is particularly effective at removing ‘salt and pepper’ type noise.The median filter works by moving through the image pixel by pixel, replacing each value with the median value of neighbouring pixels. The pattern of neighbours is called the \"window\", which slides, pixel by pixel over the entire image 2 pixel, over the entire image.\n",
    "The median is calculated by first sorting all the pixel values from the window into numerical order, and then replacing the pixel being considered with the middle (median) pixel value[1]. \n",
    "\n",
    "**Q2_Do you expect that if we process the image using the converted signal into voltage this will change the aspect in your image? why or why not?**\n",
    "\n",
    "**Sol_**\n",
    "\n",
    "No, if we change an image to voltage it will not change the aspect in our image because if we have to transmit image to longer distance from place of capturing then in case of voltage we could amplify and send it without worrying for the distortion but normal signal could be distorted by disturbances in way[2].\n",
    "\n",
    "It could only change the aspect in a case where we increase the voltage to very high level and the resolution of image blurrs  out.\n",
    "\n",
    "**Q3_What is the meaning of dB or logarithmic imaging?**\n",
    "\n",
    "**Sol_**\n",
    "\n",
    "LIP(Logarithmic image processing) framework consists in a positive-ordered functional vector-cone structure. From a computational viewpoint, LIP framework provides a set of operations that overcome the out-of-range problem by definition or by using the modulus notion. \n",
    "\n",
    "Transmission functions are derived that are valid in the nonparaxial case for a class of lenses that will image a continuum of points along an optical axis to a single image point. This lens, which we call a logarithmic asphere, is then used in a digital camera. The resolution of the camera is limited by the pixel size of the CCD; i.e., it is not diffraction limited. Digital processing is used to recover the image, and image-plane processing is used for speed. We find a tenfold increase in the depth of field over that for the diffraction-limited case[4].\n",
    "\n",
    "A theory for an integrated system is described that combines a logarithmic aspheric imaging lens with maximum-entropy digital processing to extend the depth of field ten times over that of a conventional lens and to provide near-diffraction-limited resolution.The properties of convergence and speed of the algorithm are greatly improved by introducing a metric parameter to adjust the weight of different pixel values of the recovered picture in each loop properly[3].\n",
    "\n",
    "**Q4_What is the effect of changing the attenuation coefficient? Would it affect the image much if different tissues have different attenuations?**\n",
    "\n",
    "**Sol_**\n",
    "\n",
    "*The Linear Attenuation Coefficient (µ)*\n",
    "\n",
    "The linear attenuation coefficient (µ) describes the fraction of a beam of x-rays or gamma rays that is absorbed or scattered per unit thickness of the absorber. This value basically accounts for the number of atoms in a cubic cm volume of material and the probability of a photon being scattered or absorbed from the nucleus or an electron of one of these atoms.\n",
    "\n",
    "A large attenuation coefficient means that the beam is quickly \"attenuated\" (weakened) as it passes through the medium, and a small attenuation coefficient means that the medium is relatively transparent to the beam. The SI unit of attenuation coefficient is the reciprocal metre (m−1)[7].\n",
    "\n",
    "*The linear attenuation coefficient will increase with increase in thickness of different tissues.*\n",
    "\n",
    "**Q5_Why do we use a Hilbert transform to obtain the envelope?**\n",
    "\n",
    "**Sol_**\n",
    "\n",
    "Implementing a Hilbert transform enables us to create an analytic signal based on some original real-valued signal. And in the comms world we can use the analytic signal to easily and accurately compute the instantaneous magnitude of the original real-valued signal. That process is used in AM demodulation.Also from the analytic signal we can easily and accurately compute the instantaneous phase of the original real-valued signal. That process is used in both phase and FM demodulation.\n",
    "\n",
    "Information such as local phase and envelope amplitude is really information about some width or extent (up to an infinite extent) of a signal surrounding each local point. The Hilbert transform, in generating an complex analytic signal from a 1D real signal, compacts some information from a surrounding extent of the signal onto each single point of a signal, thus allowing one to make more decisions (such a demodulating a bit, graphing an envelope amplitude, etc.) at each local (now complex) point or sample, without having to re-scan and/or process a new (wavelet, windowed Goertzel, etc.) window of some width on the signal at each point[6]."
   ]
  },
  {
   "cell_type": "markdown",
   "metadata": {},
   "source": [
    "References\n",
    "---------------\n",
    "\n",
    "* Oppenheim, A. V., and A. S. Willsky. \"Signals and Systems.\" Prentice-Hall, (1997).\n",
    "\n",
    "1. *\"Adaptive Median filtering\"*-Seminar Report by PENG Lei(ID-03090345).\n",
    "\n",
    "2. *\"Image sensing device using MOS-type image sensing element whose threshold voltage of charge transfer switch and reset switch is different from thet of signal output transisitor\"*-T. Kochi, S.Sugawa, Isamu Ueno, K. Ogawa, T.Koizumi,K. Sakurai, H.Hiyama.\n",
    "\n",
    "3. *\"Computational imaging with the logarithmic asphere\"*-The Institute of Optics, University of Rochester, New York.\n",
    "\n",
    "4. *\"Electronic Imaging using a logarithmic asphere\"*- Wanli Chi & Nicholas George.\n",
    "\n",
    "5. *\"Logarithmic image processing-The mathematical & physical framework for the representation and processing of transmitted images\"*- M. Jowlin, J.C.Findi.\n",
    "\n",
    "6. *\"The Hilbert Transform\"*- by Mathias Johansson, Masters Thesis, Vaxjo Univeristy.\n",
    "\n",
    "7. *\"Measuement if linear atttenuation coefficients of normal and malingnant breast tissues using synchroton radiation\"*-Santosh Mirji, N.M. Badiger, Suyamindra S. Kulkarni, P.B. Ghai, M.K.Tiwari. "
   ]
  },
  {
   "cell_type": "code",
   "execution_count": null,
   "metadata": {
    "collapsed": true
   },
   "outputs": [],
   "source": []
  }
 ],
 "metadata": {
  "kernelspec": {
   "display_name": "Python 2",
   "language": "python",
   "name": "python2"
  },
  "language_info": {
   "codemirror_mode": {
    "name": "ipython",
    "version": 2
   },
   "file_extension": ".py",
   "mimetype": "text/x-python",
   "name": "python",
   "nbconvert_exporter": "python",
   "pygments_lexer": "ipython2",
   "version": "2.7.13"
  }
 },
 "nbformat": 4,
 "nbformat_minor": 2
}
