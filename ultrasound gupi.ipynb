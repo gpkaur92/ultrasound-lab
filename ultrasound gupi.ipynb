{
 "cells": [
  {
   "cell_type": "markdown",
   "metadata": {},
   "source": [
    "**LAB REPORT**\n",
    "\n",
    "**Introduction**\n",
    "\n",
    "The human ear can hear sound waves that have a frequency of 20-20,000 hertz.Ultrasound refers to waves that have a frequency higher than 20,000 Hz and are therefore outside our hearing range.The sound waves are above human hearing, and the echoes from the sound waves bouncing off tissue inside the body are turned into electrical pulses that can be put together into a digital image.\n",
    "\n",
    "The use of Ultrasonics in the field of medicine had nonetheless started initially with it's applications in therapy rather than diagnosis, utilising it's heating and disruptive effects on animal tissues. The destructive ability of high intensity ultrasound had been recognised in the 1920s from the time of Langévin when he noted destruction of school of fishes in the sea and pain induced in the hand when placed in a water tank insonated with high intensity ultrasound; and from the seminal work in the 1930s from Robert Wood, Newton Harvey and Alfred Loomis in New York and R Pohlman in Erlangen, Germany.\n",
    "\n",
    "High intensity ultrasound progressively evolved to become a neuro-surgical tool. William Fry at the University of Illinois and Russell Meyers at the University of Iowa performed craniotomies and used ultrasound to destroy parts of the basal ganglia in patients with Parkinsonism. Peter Lindstrom in San Francisco reported ablation of frontal lobe tissue in moribound patients to alleviate their pain from carcinomatosis. Fry in particular had worked towards improving research and dosimetry standards, which was much needed at the time.\n",
    "\n",
    "Ultrasonic energy was also extensively used in physical and rehabilitation medicine. Jerome Gersten at the University of Colorado reported in 1953 the use of ultrasound in the treatment of patients with rheumatic arthritis. Other reseachers such as Peter Wells in Bristol, England, Douglas Gordon in London and Mischele Arslan in Padua, Italy employed ultrasonic energy in the treatment of Meniere's disease.\n",
    "\n",
    "It was around similar times that ultrasound was used experimentally as a possible diagnostic tool in medicine. H Gohr and Th. Wedekind at the Medical University of Koln in Germany in 1940 presented in their paper \"Der Ultraschall in der Medizin\" the possibility of ultrasonic diagnosis basing on echo-reflection methods similar to that used in metal flaw detection. They suggested that the method would be able to detect tumours, exudates or abscesses. However they were unable to publish convincing results from their experiments. Karl Theo Dussik, a neurologist/ psychiatrist at the University of Vienna, Austria, who had begun experiments in the late 1930s, was generallly regarded as the first physician to have employed ultrasound in medical diagnosis[1].\n",
    "\n",
    "Since then the further developments are going on in this field to improve it so that it could be more and more beneficial for humans.Now a days, Ultrasound Imaging is being used in medical field in different modes.These are:\n",
    "\n",
    "*A-mode*: A-mode is the simplest type of ultrasound. A single transducer scans a line through the body with the echoes plotted on screen as a function of depth. Therapeutic ultrasound aimed at a specific tumor or calculus is also A-mode, to allow for pinpoint accurate focus of the destructive wave energy.\n",
    "\n",
    "*B-mode*: In B-mode ultrasound, a linear array of transducers simultaneously scans a plane through the body that can be viewed as a two-dimensional image on screen.\n",
    "\n",
    "*M-mode*: M stands for motion. In m-mode a rapid sequence of B-mode scans whose images follow each other in sequence on screen enables doctors to see and measure range of motion, as the organ boundaries that produce reflections move relative to the probe.\n",
    "\n",
    "*Doppler mode*: This mode makes use of the Doppler effect in measuring and visualizing blood flow. Doppler sonography play important role in medicine. Sonography can be enhanced with Doppler measurements, which employ the Doppler effect to assess whether structures (usually blood) are moving towards or away from the probe, and its relative velocity[1].\n",
    "\n",
    "**Method**\n",
    "\n",
    "An ultrasound technician, called a sonographer, will apply a special lubricating jelly to your skin. This prevents friction so they can rub the ultrasound transducer on your skin. The transducer has a similar appearance to a microphone. The jelly also helps transmit the sound waves.\n",
    "\n",
    "The transducer sends high-frequency sound waves through your body. The waves echo as they hit a dense object, such as an organ or bone. Those echoes are then reflected back into a computer. The sound waves are at too high of a pitch for the human ear to hear. They form a picture that can be interpreted by the doctor.\n",
    "\n",
    "Depending on the area being examined, you may need to change positions so the technician can have better access.\n",
    "\n",
    "For our laboratory we did an ultrasoung of phantom and tomato\n",
    "\n",
    "Since we were not using the gel to remove friction we used the objects in water after putting the probe in it too. So, we used water as lubricant and to cover up air gaps between probe and the object.\n",
    "\n",
    "Then team 3 was collecting the images formed.\n",
    "\n",
    "**Results**\n",
    "\n",
    "This procedure was quite handy as compared to MRI and it also took less time. But the images were not clear and with lot of distortion and disturbances.\n",
    "\n",
    "We could view the living organs and whats happening in there.\n",
    "\n",
    "We could working on improving efficiency of probe and image processing in this field.\n",
    "\n",
    "**Discussion**\n",
    "\n",
    "This procedure of ultrasound need few precautions to be taken and is easy to perform.\n",
    "\n",
    "We faced problems in examining a tomato since it was having less reflecting tissues. But still after cutting the tomato we were possible to do the ultrasound of the inner tomato.\n"
   ]
  },
  {
   "cell_type": "markdown",
   "metadata": {},
   "source": [
    "**References**\n",
    "\n",
    "1. Dussik, K.T. (1942) On the possibility of using ultrasound waves as a diagnostic aid. Neurol. Psychiat. 174:153-168."
   ]
  }
 ],
 "metadata": {
  "kernelspec": {
   "display_name": "Python 2",
   "language": "python",
   "name": "python2"
  },
  "language_info": {
   "codemirror_mode": {
    "name": "ipython",
    "version": 2
   },
   "file_extension": ".py",
   "mimetype": "text/x-python",
   "name": "python",
   "nbconvert_exporter": "python",
   "pygments_lexer": "ipython2",
   "version": "2.7.13"
  }
 },
 "nbformat": 4,
 "nbformat_minor": 2
}
